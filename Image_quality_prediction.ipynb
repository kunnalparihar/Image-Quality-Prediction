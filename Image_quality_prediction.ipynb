{
 "cells": [
  {
   "cell_type": "markdown",
   "metadata": {},
   "source": [
    "## Import python Library"
   ]
  },
  {
   "cell_type": "code",
   "execution_count": 2,
   "metadata": {},
   "outputs": [],
   "source": [
    "import cv2\n",
    "import numpy as np\n",
    "from sklearn.svm import SVR\n",
    "import scipy.io\n",
    "import h5py "
   ]
  },
  {
   "cell_type": "markdown",
   "metadata": {},
   "source": [
    "## Load sample images"
   ]
  },
  {
   "cell_type": "code",
   "execution_count": 3,
   "metadata": {
    "scrolled": true
   },
   "outputs": [
    {
     "name": "stdout",
     "output_type": "stream",
     "text": [
      "(512, 768)\n"
     ]
    }
   ],
   "source": [
    "img1 = cv2.imread('/Users/kunal/Desktop/Live Database/databaserelease2/fastfading/img35.bmp',cv2.IMREAD_GRAYSCALE)\n",
    "img2 = cv2.imread('/Users/kunal/Desktop/Live Database/databaserelease2/refimgs/bikes.bmp',cv2.IMREAD_GRAYSCALE)\n",
    "print(img1.shape)"
   ]
  },
  {
   "cell_type": "markdown",
   "metadata": {},
   "source": [
    "# Loading dmos  file (subjective score)"
   ]
  },
  {
   "cell_type": "code",
   "execution_count": 4,
   "metadata": {},
   "outputs": [
    {
     "name": "stdout",
     "output_type": "stream",
     "text": [
      "(60.20396230395742, 58.27823032567312, 56.94935356368719)\n",
      "[ 0.         28.00384536 34.01073628 65.13140971 68.9113403  65.15010253\n",
      " 54.39726604 44.3971449   0.         47.43001376  0.         41.41249842\n",
      " 49.58114314 48.84324745 26.13791358  0.         62.4787039  37.59887641\n",
      " 19.96662226  0.         32.69469884  0.         41.92234749  0.\n",
      "  0.         25.34100954 50.83957042 66.46194644 61.41371717 69.29851566\n",
      " 33.27987228 70.19193144 53.84629978 23.2929013   0.          0.\n",
      " 35.02681669 62.90035885 35.77898515 69.87055816 47.53287131 54.86002883\n",
      " 64.16748928 67.00586811 68.78335868 67.97348673 50.54857713 70.9612236\n",
      " 26.67330249  0.         31.35996618 52.45539931 60.60039324  0.\n",
      " 49.04623821 45.83052554  0.         21.24474003 24.26413611 61.17839966\n",
      " 32.09558699 21.7373924  37.97355042  0.         74.71223055  0.\n",
      "  0.         34.49728357 21.3314339   0.         72.81703406  0.\n",
      "  0.         53.34011511 25.03062048  0.         25.98402652 38.46900883\n",
      " 72.09944236 31.49196891 48.34116742 25.09633166 46.58432245  0.\n",
      " 30.00013498 70.25982518  0.         63.01532451  0.         25.29582718\n",
      " 50.9670401  42.60054761  0.         38.2549339   0.         39.49439172\n",
      "  0.         46.73519188 52.00419635  0.         24.27640881 21.88262166\n",
      " 24.35211476 49.72531306 22.28656663 50.87767309 72.58409007 47.47269421\n",
      " 42.01934142  0.         28.18884257  0.         25.90239364 26.10206391\n",
      " 63.79745841 49.72862816  0.          0.          0.         42.50096822\n",
      " 73.25236622 53.45609932  0.         49.46765177 33.47316109 24.62483882\n",
      " 63.27089048  0.         27.44722192 43.71826643  0.         31.55956871\n",
      " 42.16153848  0.         69.31988838 38.49937917 54.48232334 51.98430098\n",
      "  0.          0.         21.78729842 44.62558143 45.0968447  57.47745564\n",
      "  0.         51.92884613  0.         24.89895707 38.06964087 21.41886534\n",
      "  0.         55.90459914  0.         59.44196572 67.19668334 61.18215742\n",
      "  0.         55.77643512  0.         53.41030486  0.         25.54790809\n",
      " 48.0727456  34.31882592 36.80369125  0.         50.1281044  50.2223036\n",
      " 55.98522773 48.30468097 31.38706429 69.37405447 30.06590643 23.04535862\n",
      " 69.62940065 34.747364   66.28179453 52.61692321 69.5016062   0.\n",
      " 69.9783258  42.46037967 22.27981853  0.         27.20195442  0.\n",
      " 36.14531005  0.          0.          0.         65.3353856  40.20353483\n",
      " 56.81506839 61.33228069 21.30512298 55.88732005 45.89200996 23.93855287\n",
      " 21.07955184 59.30217261 73.02643348 63.86475437 42.82439106  0.\n",
      " 25.59001806  0.          0.         47.21025838  0.         34.16120589\n",
      " 22.45713134 21.27322193 64.00907199 22.76639531 62.22323173 25.477352\n",
      " 24.25551854 59.08349135 61.67638379 60.7673798  56.98843896 37.02130195\n",
      "  0.          0.         68.0538022  51.60071919 60.76165786 55.67451331\n",
      " 42.18605088  0.         79.6320014   0.          0.          0.\n",
      " 29.32258918 60.3114101   0.         56.44735042  0.         19.53742657\n",
      " 22.42779752 47.8425074  52.55754453 22.5499129  51.8433268   0.\n",
      "  0.         53.81866417  0.         74.25212012 28.30780106 43.68712908\n",
      "  0.         43.01621753  0.         63.22821648 23.81928622  0.\n",
      " 42.52118608 48.86232627  0.         70.9584544  68.8158273  63.77800814\n",
      " 31.94008076 54.04967816 28.32827895 60.57822645  0.         47.79653011\n",
      " 45.67871474 43.26832514 69.45204261 52.68258889  0.         41.94637326\n",
      " 58.66222272 39.51151909  0.         26.53064136  0.         42.18685408\n",
      " 41.433843   17.90242446 26.8204324  42.49899725 50.91458217 25.77050586\n",
      " 66.06308109 40.20037532 21.91503733 56.16757692  0.         34.36752099\n",
      "  0.         52.8906603  19.56748372 31.07407134 27.80481229 44.56841487\n",
      " 23.47304698 54.7009997   0.         56.02031619 69.18511019 80.88636722\n",
      " 65.92309096 49.05615491  0.         39.12654755 51.01535769 63.64900698\n",
      " 48.6708014   0.          0.         44.31871653 48.20131912 73.58912301\n",
      " 52.72380858 59.76883361 29.62778181  0.         22.21876535 23.35933215\n",
      " 33.17487453 48.44187432 75.27899604 26.45959905 29.5567772  45.39754889\n",
      " 65.70767925 42.87448315 21.61691919 37.1873187  56.20055377  0.\n",
      " 46.98621621 44.80579447  0.          0.          0.          0.\n",
      " 25.29696961 28.52528489  0.         34.14049053 23.20315085 38.88609401\n",
      "  0.          0.         60.08253117  0.         60.0695372  59.24963652\n",
      " 41.49997147 52.84704265 22.43611397 59.07206937 22.64523472  0.\n",
      " 51.03826641 21.36863737  0.         21.34582622 61.19507964  0.\n",
      "  0.         23.75290582  0.         20.05966586 21.42535247 63.81598196\n",
      " 29.24891486 64.17863284 60.59906716 46.86060608 30.0698152  21.02448837\n",
      " 42.7603603   0.         62.67484279  0.         45.01820142 22.91571208\n",
      "  0.         59.85684397 61.71514178 59.35943124 58.27189659 30.4091085\n",
      " 67.82709016 44.48057974 61.35028338 52.79281275 22.04930215  0.\n",
      " 56.2672045  25.73298177  0.          0.         25.92338626 49.9871411\n",
      " 59.1978724  59.21107877 28.60678393  0.         59.80287396 53.5613179\n",
      "  0.         56.8208994  60.29938915 29.7387729  58.78794451 59.85905321\n",
      " 55.94006392  0.          0.          0.         60.59222185  0.\n",
      " 33.16185902 62.49964419 59.99811644 61.16381409 25.00585343 61.96685137\n",
      " 46.69215784 58.63208188  0.         30.39601224 59.01313653 58.50771813\n",
      " 22.36077003 49.85666309  0.         58.69876894 62.42299402  0.\n",
      "  0.         57.24972198 23.76422793 65.16467871 26.95408813 64.41510962\n",
      " 60.40688877  0.         58.74282798 60.86756016  0.         63.67395504\n",
      "  0.         32.48938586 25.44282492  0.         24.51332757 51.40118853\n",
      " 59.50052274 22.89431645 60.55254515 58.22680304 28.44905061 48.8622678\n",
      " 37.35766475 72.06247711 22.25182991 28.32970638 50.45216516 20.711416\n",
      " 47.80221731 30.9103794  25.01271709 38.23861197 24.37575202 20.30740676\n",
      " 65.42857663 35.15459191 41.16959454 32.02919219 19.60742463 75.67752971\n",
      " 47.07703204 28.50580756 74.45167366 65.53583558 40.29073204 46.97600778\n",
      " 39.12944784 45.16431626 54.4628236  30.79457239 27.49157346 46.28429427\n",
      " 70.52765964 65.730292   33.54336752 52.57387418 28.14805138 49.87206779\n",
      " 52.80103018 39.28253393 69.06429701 73.31267779 23.4252268  53.38423869\n",
      " 27.29814395 33.2286897  71.45708588 31.57074267 54.80278987 57.19522398\n",
      " 54.03170245 67.53582395 66.29900471 23.48981406 32.79088781 32.15919587\n",
      " 67.62262484 72.59725363 18.17154082 67.5793466  56.6813925  47.81536447\n",
      " 35.31051906 22.50337463 52.30651824 68.58777413 38.93056556 37.99576354\n",
      " 47.03859548 35.5079247  48.12179121 37.66736421 51.27952861 43.02597823\n",
      " 20.62299326 23.20983544 65.65386338 20.6586841  43.28446508 67.38191488\n",
      " 24.16469368 23.94275901 52.68290142 29.69998585 19.68635099 44.61810289\n",
      " 71.87356645 34.23029487 44.75335618 34.49706447 50.19334387 51.31842241\n",
      " 53.84641159 72.79674301 25.29394766 51.3502225  49.35753026 19.51728628\n",
      " 18.87875204 33.84747168 18.22522574 40.56284196 25.00548167 68.72715134\n",
      " 65.4224378  56.2074529  30.98683913 43.55504333 45.32049999 41.33939786\n",
      " 36.52224735 47.64388711 67.71289448 32.20299718 44.9452698  50.37554053\n",
      " 28.22314322 33.501694   48.95462394 51.47459778 55.28698338 52.17033274\n",
      " 48.03366697 46.91034733 21.02304265 48.23332034 20.53686609 47.81424824\n",
      " 48.69582101 52.16119598 62.71105027 33.54176848 19.81377676 52.17326242\n",
      " 50.47087191 72.49298634 70.11839134 24.59059678 41.92179349 49.08675235\n",
      " 48.85542517 25.1819063  47.23994202 48.03932331 67.9544167   0.\n",
      "  0.          0.          0.          0.          0.          0.\n",
      "  0.          0.          0.          0.          0.          0.\n",
      "  0.          0.          0.          0.          0.          0.\n",
      "  0.          0.          0.          0.          0.          0.\n",
      "  0.          0.          0.          0.         40.79744662 36.69893154\n",
      " 41.81571819 21.65238792 66.84060107 51.56749605 29.1865912  28.86907818\n",
      " 25.17930193 81.39075602 75.92450158 25.06544467 30.87053553 33.14363343\n",
      " 41.87691579 58.82542139 80.08185242 32.43798325 50.20470317 40.13275846\n",
      " 38.39024208 45.33888672 21.82909177 84.48897154 56.71042208 41.73492241\n",
      " 32.44451118 24.64764092 30.14020581 48.03858521 49.1910601  22.41387044\n",
      " 36.572908   44.7195608  30.40205211 46.88524261 52.4768345  46.89440866\n",
      " 34.97989357 55.87531129 59.65124686 36.89731127 40.21682296 27.53266154\n",
      " 23.40103451 23.1231931  46.03752802 53.47982606 35.05830695 44.60861754\n",
      " 23.62677772 63.27262872 55.71378986 55.19597312 47.71158036 36.58508121\n",
      " 50.58724398 66.90420924 41.65138653 22.23447745 27.75871956 33.33511313\n",
      " 20.80923557 37.84717529 40.28125449 55.06486273 24.51367528 60.02597199\n",
      " 72.81132895 69.15498279 22.50112527 45.72421426 56.17541355 39.71115996\n",
      " 41.05616827 39.24460143 39.57008513 62.41038614 37.43657778 40.97080069\n",
      " 44.61615956 23.14163087 60.09726609 27.16094456 52.85813437 36.65132395\n",
      " 37.18805804 60.83318138 31.00570595 22.6039015  46.44808208 24.38255665\n",
      " 43.83337619 25.62112113 19.71314623 23.23545738 49.99575758 27.85836184\n",
      " 55.50823593 52.5606913  27.2093903  32.99815746 40.40106473 82.28872007\n",
      " 63.86249523 28.22685224 67.1801054  22.80333289 41.97731379 42.07092681\n",
      " 26.66936998 30.47500491 43.27513176 49.39651973 54.14973577 78.57666525\n",
      " 77.01186411 64.7132419  39.23812885 66.07056503 68.43497243 37.22494828\n",
      " 57.15244298 60.09570928 62.85753622 35.88375859 50.14722394 54.39367189\n",
      " 29.94798379 47.06165652 52.21078695 59.4296021  26.2758774  46.68926806\n",
      " 45.65957935 30.69813595 19.94454652 67.05636897 59.82513779 38.6747713\n",
      " 53.13733445 30.95353068 33.81920938 66.33219374 23.87507059  0.\n",
      "  0.          0.          0.          0.          0.          0.\n",
      "  0.          0.          0.          0.          0.          0.\n",
      "  0.          0.          0.          0.          0.          0.\n",
      "  0.          0.          0.          0.          0.          0.\n",
      "  0.          0.          0.          0.         60.2039623  58.27823033\n",
      " 56.94935356 28.70906308 23.99436678 52.17093178 46.11334734 64.48012752\n",
      " 52.84306696 19.88077777 58.15876473 43.11096126 22.6085245  27.85283357\n",
      " 22.74784333 54.41368683 47.84995396 63.25450438 40.68903263 29.21077713\n",
      " 61.71215264 52.53970356 43.5227752  47.88482938 24.33354975 55.14997768\n",
      " 22.72195309 25.56142235 25.76215199 20.65754723 74.02538179 46.69234531\n",
      " 35.594522   22.55429071 44.68442987 48.05937946 71.74686317 34.17122364\n",
      " 36.02501785 25.92493301 44.06401187 50.09550072 20.65866991 28.42655184\n",
      " 18.38475281 65.14447651 73.67472823 49.4094247  24.16302779 24.81676818\n",
      " 65.45383852 75.75589095 44.84198669 22.90728765 25.74324918 45.10698347\n",
      " 60.28957268 71.87112529 21.93614318 24.7848016  60.18761196 59.03672673\n",
      " 28.23275064 22.34725068 67.2364356  50.6184479  58.85341168 56.51507879\n",
      " 68.30919109 21.16647786 73.00077914 29.5508494  37.71485968 22.88254039\n",
      " 22.80177818 73.01922494 43.34393378 42.88348282 49.28064464 20.37669296\n",
      " 44.67319601 40.44999366 30.55163058 27.49648527 47.99701824 69.00738835\n",
      " 60.05538598 50.70893478 34.45272742 42.48963528 48.62980021 63.51936094\n",
      " 38.63163726 43.35766049 50.29223218 71.89723737 57.61656847 28.56515376\n",
      " 51.33216625 53.8549311  51.59891269 38.38777059 55.53380232 21.98994243\n",
      " 23.92044941 53.82623745 49.57856814 48.51290495 34.27540696 21.86108278\n",
      " 47.86847842 56.93055184 47.92923241 35.9191565  33.23060383 74.84023977\n",
      " 61.57439856 51.5098204  21.24550719 66.50936891 51.20181454 55.75483745\n",
      " 40.29495291 25.11356489 21.0137419  58.4941291  28.61033537 28.61970866\n",
      " 21.63835686 21.859096   76.9708069  75.00164168 25.03934265 26.33453159\n",
      " 38.99377495 54.17803636 44.6232087  32.19273642 20.51356186 21.87702387\n",
      " 57.7862583  46.97249402 36.79926614 48.94357165 36.06660549  0.\n",
      "  0.          0.          0.          0.          0.          0.\n",
      "  0.          0.          0.          0.          0.          0.\n",
      "  0.          0.          0.          0.          0.          0.\n",
      "  0.          0.          0.          0.          0.          0.\n",
      "  0.          0.          0.          0.        ]\n"
     ]
    }
   ],
   "source": [
    "mat = scipy.io.loadmat('/Users/kunal/Desktop/Live Database/dmos.mat')\n",
    "type(mat)\n",
    "subjective_score = mat[\"dmos\"]\n",
    "print((subjective_score[0][808],subjective_score[0][809],subjective_score[0][810]))\n",
    "dmos = mat[\"dmos\"][0]\n",
    "print(dmos)\n"
   ]
  },
  {
   "cell_type": "markdown",
   "metadata": {},
   "source": [
    "# Function to create feature vector of size 512 "
   ]
  },
  {
   "cell_type": "code",
   "execution_count": 5,
   "metadata": {},
   "outputs": [],
   "source": [
    " def feature_extract(img_reference,img_distored):\n",
    "    u,s,v = np.linalg.svd(img_reference)\n",
    "    u1,s1,v1 = np.linalg.svd(img_distored)\n",
    "    alpha = np.multiply(u,u1).sum(axis=0)\n",
    "    beta = np.multiply(v,v1).sum(axis=0)\n",
    "    len = min(img_distored.shape[0],img_distored.shape[1])\n",
    "    fea = alpha[:len] + beta[:len]\n",
    "    feature_vec = np.zeros(800)\n",
    "    feature_vec[0:fea.size] = fea\n",
    "    fea = feature_vec[0:512]\n",
    "    return fea"
   ]
  },
  {
   "cell_type": "markdown",
   "metadata": {},
   "source": [
    "## Extract feature for testing on above images and initializing the input X and Label Y"
   ]
  },
  {
   "cell_type": "code",
   "execution_count": 6,
   "metadata": {
    "scrolled": true
   },
   "outputs": [
    {
     "name": "stdout",
     "output_type": "stream",
     "text": [
      "<class 'numpy.ndarray'>\n",
      "(512,)\n",
      "(1, 512) X\n",
      "<class 'numpy.ndarray'> Xtype\n",
      "<class 'numpy.ndarray'>\n",
      "[2]\n"
     ]
    }
   ],
   "source": [
    "featur = feature_extract(img1,img2)\n",
    "\n",
    "print(type(featur))\n",
    "\n",
    "print(featur.shape)\n",
    "\n",
    "files = open(\"/Users/kunal/Desktop/Live Database/databaserelease2/main_info.txt\", \"r\")\n",
    "X = np.array([featur])    ## feature vector act as input and dmos value act as label for training SVM\n",
    "print(X.shape,\"X\")\n",
    "print(type(X),\"Xtype\")\n",
    "Y = np.array([2])\n",
    "print(type(Y))\n",
    "print(Y)\n"
   ]
  },
  {
   "cell_type": "markdown",
   "metadata": {},
   "source": [
    "# Creating feature vector of all images"
   ]
  },
  {
   "cell_type": "code",
   "execution_count": 7,
   "metadata": {},
   "outputs": [
    {
     "name": "stdout",
     "output_type": "stream",
     "text": [
      "(982, 512)\n"
     ]
    }
   ],
   "source": [
    "\n",
    "\n",
    "i = 0\n",
    "for line in files:\n",
    "    s = line\n",
    "    if(i < 227):   \n",
    "        k= 0\n",
    "        img_name = '/Users/kunal/Desktop/Live Database/databaserelease2/jp2k/' + s.split()[1]\n",
    "    if(226<i < 460):   \n",
    "        k=227\n",
    "        img_name = '/Users/kunal/Desktop/Live Database/databaserelease2/jpeg/' + s.split()[1]\n",
    "    if(459<i < 634):   \n",
    "        k=460\n",
    "        img_name = '/Users/kunal/Desktop/Live Database/databaserelease2/wn/' + s.split()[1]\n",
    "    if(633 < i < 808):   \n",
    "        k=634\n",
    "        img_name = '/Users/kunal/Desktop/Live Database/databaserelease2/gblur/' + s.split()[1]\n",
    "    if(807<i < 982):   \n",
    "        k=808\n",
    "        img_name = '/Users/kunal/Desktop/Live Database/databaserelease2/fastfading/' + s.split()[1]    \n",
    "    \n",
    "    ori_img_names  = '/Users/kunal/Desktop/Live Database/databaserelease2/refimgs/' + s.split()[0]\n",
    "    stri  = s.split()[1]\n",
    "    index = int(stri[3:int(stri.find(\".\"))])     \n",
    "    original_img = cv2.imread(ori_img_names,cv2.IMREAD_GRAYSCALE)\n",
    "    img = cv2.imread(img_name,cv2.IMREAD_GRAYSCALE)\n",
    "    \n",
    "    featurer = feature_extract(original_img,img)\n",
    "    \n",
    "    X = np.concatenate((X,np.array([featurer])), axis = 0)\n",
    "    Y = np.concatenate((Y,np.array([dmos[k+index-1]])),axis = 0)\n",
    "    \n",
    "    i = i+1\n",
    "        \n",
    "X = X[1:,:]    \n",
    "print(X.shape) \n",
    "\n"
   ]
  },
  {
   "cell_type": "code",
   "execution_count": 8,
   "metadata": {},
   "outputs": [
    {
     "name": "stdout",
     "output_type": "stream",
     "text": [
      "(982, 512)\n",
      "<class 'numpy.ndarray'>\n"
     ]
    }
   ],
   "source": [
    "print(X.shape) \n",
    "Y = Y[1:] \n",
    "print(type(Y))"
   ]
  },
  {
   "cell_type": "markdown",
   "metadata": {},
   "source": [
    "# Regression using SVR "
   ]
  },
  {
   "cell_type": "code",
   "execution_count": 11,
   "metadata": {},
   "outputs": [
    {
     "name": "stdout",
     "output_type": "stream",
     "text": [
      "(785, 512)\n",
      "(785,)\n",
      "Correlation coffecient of 0 th testing sets\n",
      "[[1.        0.9932829]\n",
      " [0.9932829 1.       ]]\n",
      "Correlation coffecient of 1 th testing sets\n",
      "[[1.         0.98961198]\n",
      " [0.98961198 1.        ]]\n",
      "Correlation coffecient of 2 th testing sets\n",
      "[[1.         0.97886017]\n",
      " [0.97886017 1.        ]]\n",
      "Correlation coffecient of 3 th testing sets\n",
      "[[1.         0.99259773]\n",
      " [0.99259773 1.        ]]\n",
      "Correlation coffecient of 4 th testing sets\n",
      "[[1.         0.99355822]\n",
      " [0.99355822 1.        ]]\n",
      "Correlation coffecient of 5 th testing sets\n",
      "[[1.         0.99001786]\n",
      " [0.99001786 1.        ]]\n",
      "Correlation coffecient of 6 th testing sets\n",
      "[[1.         0.99608132]\n",
      " [0.99608132 1.        ]]\n",
      "Correlation coffecient of 7 th testing sets\n",
      "[[1.         0.98906032]\n",
      " [0.98906032 1.        ]]\n",
      "Correlation coffecient of 8 th testing sets\n",
      "[[1.         0.98649397]\n",
      " [0.98649397 1.        ]]\n",
      "Correlation coffecient of 9 th testing sets\n",
      "[[1.       0.987868]\n",
      " [0.987868 1.      ]]\n",
      "mean_output_score for SVR is  0.9897432479631545\n"
     ]
    }
   ],
   "source": [
    "import numpy as np\n",
    "from sklearn.svm import SVR\n",
    "from sklearn.linear_model import LinearRegression\n",
    "import matplotlib.pyplot as plt\n",
    "from sklearn.model_selection import train_test_split\n",
    "\n",
    "y = Y.T\n",
    "\n",
    "\n",
    "X_train, X_test, y_train, y_test = train_test_split(X, y, test_size=0.2, random_state=117)\n",
    "\n",
    "print(X_train.shape)\n",
    "print(y_train.shape)\n",
    "\n",
    "svr_rbf = SVR(kernel='rbf', C=1e3, gamma=0.01)\n",
    "\n",
    "y_rbf = svr_rbf.fit(X_train, y_train)\n",
    "corr_vector_svr = np.zeros(10)\n",
    "for p in range(10):\n",
    "    X_train_i, X_test_i, y_train_i, y_test_i = train_test_split(X, y, test_size=0.2, random_state=(p+1)*7)\n",
    "    y_rbf = svr_rbf.fit(X_train, y_train)\n",
    "    y_predicted_i = y_rbf.predict(X_test_i)\n",
    "    print(\"Correlation coffecient of {} th testing sets\".format(p))\n",
    "    print(np.corrcoef(y_test_i,y_predicted_i))\n",
    "    corr_vector_svr[p] = np.corrcoef(y_test_i,y_predicted_i)[0,1]\n",
    "\n",
    "print(\"mean_output_score for SVR is \",corr_vector_svr.mean())"
   ]
  },
  {
   "cell_type": "markdown",
   "metadata": {},
   "source": [
    "# regression using Neural Network "
   ]
  },
  {
   "cell_type": "code",
   "execution_count": 12,
   "metadata": {
    "scrolled": true
   },
   "outputs": [
    {
     "name": "stderr",
     "output_type": "stream",
     "text": [
      "/Library/Frameworks/Python.framework/Versions/3.6/lib/python3.6/importlib/_bootstrap.py:219: RuntimeWarning: compiletime version 3.5 of module 'tensorflow.python.framework.fast_tensor_util' does not match runtime version 3.6\n",
      "  return f(*args, **kwds)\n"
     ]
    },
    {
     "name": "stdout",
     "output_type": "stream",
     "text": [
      "1.10.1\n",
      "Training set: (785, 512)\n",
      "Testing set:  (197, 512)\n",
      "_________________________________________________________________\n",
      "Layer (type)                 Output Shape              Param #   \n",
      "=================================================================\n",
      "dense (Dense)                (None, 64)                32832     \n",
      "_________________________________________________________________\n",
      "dense_1 (Dense)              (None, 1)                 65        \n",
      "=================================================================\n",
      "Total params: 32,897\n",
      "Trainable params: 32,897\n",
      "Non-trainable params: 0\n",
      "_________________________________________________________________\n",
      "None\n",
      "\n",
      "....................................................................................................\n",
      "....................................................................................................\n",
      "....................................................................................................\n",
      "....................................................................................................\n",
      "...................................................................................................."
     ]
    }
   ],
   "source": [
    "from __future__ import absolute_import, division, print_function\n",
    "\n",
    "import tensorflow as tf\n",
    "from tensorflow import keras\n",
    "print(tf.__version__)\n",
    "\n",
    "train_data = X_train\n",
    "test_data = X_test\n",
    "train_labels = y_train\n",
    "test_labels = y_test\n",
    "\n",
    "print(\"Training set: {}\".format(train_data.shape))\n",
    "print(\"Testing set:  {}\".format(test_data.shape))\n",
    "\n",
    "\n",
    "\n",
    "mean = train_data.mean(axis=0)\n",
    "std = train_data.std(axis=0)\n",
    "train_data = (train_data - mean) / std\n",
    "test_data = (test_data - mean) / std\n",
    "\n",
    "\n",
    "\n",
    "def build_model():\n",
    "  model = keras.Sequential([\n",
    "    keras.layers.Dense(64, activation=tf.nn.relu,\n",
    "                       input_shape=(train_data.shape[1],)),\n",
    "#       keras.layers.Dense(64, activation=tf.nn.relu),\n",
    "     keras.layers.Dense(1)\n",
    "  ])\n",
    "\n",
    "  optimizer = tf.train.RMSPropOptimizer(0.001)\n",
    "\n",
    "  model.compile(loss='mse',\n",
    "                optimizer=optimizer,\n",
    "                metrics=['mae'])\n",
    "  return model\n",
    "\n",
    "model = build_model()\n",
    "print(model.summary())\n",
    "\n",
    "\n",
    "\n",
    "# Display training progress by printing a single dot for each completed epoch\n",
    "class PrintDot(keras.callbacks.Callback):\n",
    "  def on_epoch_end(self, epoch, logs):\n",
    "    if epoch % 100 == 0: print('')\n",
    "    print('.', end='')\n",
    "\n",
    "EPOCHS = 500\n",
    "\n",
    "# Store training stats\n",
    "history = model.fit(train_data, train_labels, epochs=EPOCHS,\n",
    "                    validation_split=0.2, verbose=0,\n",
    "                    callbacks=[PrintDot()])"
   ]
  },
  {
   "cell_type": "markdown",
   "metadata": {},
   "source": [
    "# analysis training in neural network"
   ]
  },
  {
   "cell_type": "code",
   "execution_count": 13,
   "metadata": {},
   "outputs": [
    {
     "data": {
      "image/png": "[encoded data removed]",
      "text/plain": [
       "<Figure size 432x288 with 1 Axes>"
      ]
     },
     "metadata": {
      "needs_background": "light"
     },
     "output_type": "display_data"
    }
   ],
   "source": [
    "import matplotlib.pyplot as plt\n",
    "\n",
    "\n",
    "def plot_history(history):\n",
    "  plt.figure()\n",
    "  plt.xlabel('Epoch')\n",
    "  plt.ylabel('Mean Abs Error [1000$]')\n",
    "  plt.plot(history.epoch, np.array(history.history['mean_absolute_error']),\n",
    "           label='Train Loss')\n",
    "  plt.plot(history.epoch, np.array(history.history['val_mean_absolute_error']),\n",
    "           label = 'Val loss')\n",
    "  plt.legend()\n",
    "  plt.ylim([0, 5])\n",
    "\n",
    "plot_history(history)\n",
    "\n",
    "\n",
    "\n"
   ]
  },
  {
   "cell_type": "markdown",
   "metadata": {},
   "source": [
    "# Testing for 10 runs of test data in neural network "
   ]
  },
  {
   "cell_type": "code",
   "execution_count": 14,
   "metadata": {},
   "outputs": [
    {
     "name": "stdout",
     "output_type": "stream",
     "text": [
      "[[1.         0.91814548]\n",
      " [0.91814548 1.        ]]\n",
      "Correlation coffecient of 0 th testing sets\n",
      "[[1.         0.95251384]\n",
      " [0.95251384 1.        ]]\n",
      "Correlation coffecient of 1 th testing sets\n",
      "[[1.         0.97568588]\n",
      " [0.97568588 1.        ]]\n",
      "Correlation coffecient of 2 th testing sets\n",
      "[[1.         0.98584065]\n",
      " [0.98584065 1.        ]]\n",
      "Correlation coffecient of 3 th testing sets\n",
      "[[1.        0.9922288]\n",
      " [0.9922288 1.       ]]\n",
      "Correlation coffecient of 4 th testing sets\n",
      "[[1.         0.99643817]\n",
      " [0.99643817 1.        ]]\n",
      "Correlation coffecient of 5 th testing sets\n",
      "[[1.         0.99671852]\n",
      " [0.99671852 1.        ]]\n",
      "Correlation coffecient of 6 th testing sets\n",
      "[[1.         0.99815056]\n",
      " [0.99815056 1.        ]]\n",
      "Correlation coffecient of 7 th testing sets\n",
      "[[1.         0.99642136]\n",
      " [0.99642136 1.        ]]\n",
      "Correlation coffecient of 8 th testing sets\n",
      "[[1.         0.99797357]\n",
      " [0.99797357 1.        ]]\n",
      "Correlation coffecient of 9 th testing sets\n",
      "[[1.         0.99688016]\n",
      " [0.99688016 1.        ]]\n",
      "mean_output_score for neural network is  0.9888851499293241\n"
     ]
    },
    {
     "data": {
      "image/png": "[encoded data removed]",
      "text/plain": [
       "<Figure size 432x288 with 1 Axes>"
      ]
     },
     "metadata": {
      "needs_background": "light"
     },
     "output_type": "display_data"
    }
   ],
   "source": [
    "test_predictions = model.predict(test_data).flatten()\n",
    "print(np.corrcoef(test_labels,test_predictions))\n",
    "plt.scatter(test_labels, test_predictions)\n",
    "plt.axis('equal')\n",
    "plt.xlim(plt.xlim())\n",
    "plt.ylim(plt.ylim())\n",
    "_ = plt.plot([-100, 100], [-100, 100])\n",
    "\n",
    "corr_vector_neural = np.zeros(10)\n",
    "for p in range(10):\n",
    "    X_train_i, X_test_i, y_train_i, y_test_i = train_test_split(X, y, test_size=0.2, random_state=(p+1)*7)\n",
    "    mean = X_train_i.mean(axis=0)\n",
    "    std = X_train_i.std(axis=0)\n",
    "    X_train_i = (X_train_i - mean) / std\n",
    "    X_test_i = (X_test_i - mean) / std\n",
    "    # Store training stats\n",
    "    history = model.fit(X_train_i, y_train_i, epochs=EPOCHS,\n",
    "                    validation_split=0.2, verbose=0)\n",
    "    y_predicted_i = model.predict(X_test_i).flatten()\n",
    "    print(\"Correlation coffecient of {} th testing sets\".format(p))\n",
    "    print(np.corrcoef(y_test_i,y_predicted_i))\n",
    "    corr_vector_neural[p] = np.corrcoef(y_test_i,y_predicted_i)[0,1]\n",
    "\n",
    "print(\"mean_output_score for neural network is \",corr_vector_neural.mean())"
   ]
  },
  {
   "cell_type": "markdown",
   "metadata": {},
   "source": [
    "# Regression using Logistic Regression"
   ]
  },
  {
   "cell_type": "code",
   "execution_count": 15,
   "metadata": {},
   "outputs": [
    {
     "name": "stdout",
     "output_type": "stream",
     "text": [
      "Correlation coffecient of 0 th testing sets\n",
      "[[1.         0.76639282]\n",
      " [0.76639282 1.        ]]\n",
      "Correlation coffecient of 1 th testing sets\n",
      "[[1.         0.77177464]\n",
      " [0.77177464 1.        ]]\n",
      "Correlation coffecient of 2 th testing sets\n",
      "[[1.        0.7545642]\n",
      " [0.7545642 1.       ]]\n",
      "Correlation coffecient of 3 th testing sets\n",
      "[[1.         0.82417921]\n",
      " [0.82417921 1.        ]]\n",
      "Correlation coffecient of 4 th testing sets\n",
      "[[1.         0.83159881]\n",
      " [0.83159881 1.        ]]\n",
      "Correlation coffecient of 5 th testing sets\n",
      "[[1.         0.79911208]\n",
      " [0.79911208 1.        ]]\n",
      "Correlation coffecient of 6 th testing sets\n",
      "[[1.         0.75480234]\n",
      " [0.75480234 1.        ]]\n",
      "Correlation coffecient of 7 th testing sets\n",
      "[[1.         0.77097646]\n",
      " [0.77097646 1.        ]]\n",
      "Correlation coffecient of 8 th testing sets\n",
      "[[1.         0.76589316]\n",
      " [0.76589316 1.        ]]\n",
      "Correlation coffecient of 9 th testing sets\n",
      "[[1.        0.7787515]\n",
      " [0.7787515 1.       ]]\n",
      "mean_output_score for logistic regression is  0.7818045224386401\n"
     ]
    }
   ],
   "source": [
    "from sklearn.datasets import load_iris\n",
    "from sklearn.linear_model import LogisticRegression\n",
    "\n",
    "y_train_new = y_train.round()\n",
    "\n",
    "clf = LogisticRegression(random_state=0, solver='lbfgs',\n",
    "                          multi_class='multinomial').fit(X_train, y_train_new)\n",
    "\n",
    "\n",
    "corr_vector_logistic = np.zeros(10)\n",
    "for p in range(10):\n",
    "    X_train_i, X_test_i, y_train_i, y_test_i = train_test_split(X, y, test_size=0.2, random_state=(p+1)*7)\n",
    "    mean = X_train_i.mean(axis=0)\n",
    "    std = X_train_i.std(axis=0)\n",
    "    X_train_i = (X_train_i - mean) / std\n",
    "    X_test_i = (X_test_i - mean) / std\n",
    "    clf = LogisticRegression(random_state=0, solver='lbfgs',\n",
    "                          multi_class='multinomial').fit(X_train, y_train_new)\n",
    "    y_predicted_i = predicty = clf.predict(X_test_i)\n",
    "    \n",
    "    print(\"Correlation coffecient of {} th testing sets\".format(p))\n",
    "    print(np.corrcoef(y_test_i,y_predicted_i))\n",
    "    corr_vector_logistic[p] = np.corrcoef(y_test_i,y_predicted_i)[0,1]\n",
    "\n",
    "print(\"mean_output_score for logistic regression is \",corr_vector_logistic.mean())"
   ]
  },
  {
   "cell_type": "markdown",
   "metadata": {},
   "source": [
    "## comparison of three models "
   ]
  },
  {
   "cell_type": "markdown",
   "metadata": {},
   "source": [
    "all the models give good accuracy in terms of PLCC. SVR and neural network perform almost equally but logistic regression is not that good . logistic regression uses 100 classes to classify the dataset images whereas neural network and SVR does regression. neural network with 1 hidden layer(64 units) works fine. All the parameter are tuned to give maximum accuracy."
   ]
  },
  {
   "cell_type": "code",
   "execution_count": null,
   "metadata": {},
   "outputs": [],
   "source": []
  }
 ],
 "metadata": {
  "kernelspec": {
   "display_name": "Python 3",
   "language": "python",
   "name": "python3"
  },
  "language_info": {
   "codemirror_mode": {
    "name": "ipython",
    "version": 3
   },
   "file_extension": ".py",
   "mimetype": "text/x-python",
   "name": "python",
   "nbconvert_exporter": "python",
   "pygments_lexer": "ipython3",
   "version": "3.6.5"
  }
 },
 "nbformat": 4,
 "nbformat_minor": 2
}
